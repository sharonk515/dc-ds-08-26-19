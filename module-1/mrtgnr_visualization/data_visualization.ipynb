{
 "cells": [
  {
   "cell_type": "markdown",
   "metadata": {},
   "source": [
    "## Objectives\n",
    "\n",
    "- Matplotlib architecture\n",
    "\n",
    "- Create figures with matplotlib by using artist layer elements. \n",
    "\n",
    "- Use axis artist to modify figures.\n",
    "\n",
    "- Creating an animation with matplotlib\n",
    "\n",
    "![Start with this](first_version.png)\n",
    "![Then](second_version.png)\n",
    "![third](third_version.png)\n",
    "![final](final_version.png)\n",
    "\n",
    "\n",
    "\n",
    "\n",
    "## Warming-up\n",
    "\n",
    "[Darkhorse Analytics](https://www.darkhorseanalytics.com/portfolio/breathing-city)\n",
    "\n",
    "\n",
    "## Matplotlib Fundamentals\n",
    "\n",
    "#### Resources\n",
    "\n",
    "- [Structure of Matplotlib](https://matplotlib.org/users/artists.html)\n",
    "\n",
    "- [Ten simple rules for better figures](https://journals.plos.org/ploscompbiol/article?id=10.1371/journal.pcbi.1003833)\n",
    "\n",
    "- [John Hunter and Michael Droettboom](http://www.aosabook.org/en/matplotlib.html)\n",
    "\n",
    "- [One dataset, Visualized 25 different ways](https://flowingdata.com/2017/01/24/one-dataset-visualized-25-ways/)\n",
    "\n",
    "- [For data](https://www.payscale.com/college-salary-report/bachelors)\n"
   ]
  },
  {
   "cell_type": "code",
   "execution_count": 1,
   "metadata": {},
   "outputs": [
    {
     "data": {
      "text/html": [
       "<div>\n",
       "<style scoped>\n",
       "    .dataframe tbody tr th:only-of-type {\n",
       "        vertical-align: middle;\n",
       "    }\n",
       "\n",
       "    .dataframe tbody tr th {\n",
       "        vertical-align: top;\n",
       "    }\n",
       "\n",
       "    .dataframe thead th {\n",
       "        text-align: right;\n",
       "    }\n",
       "</style>\n",
       "<table border=\"1\" class=\"dataframe\">\n",
       "  <thead>\n",
       "    <tr style=\"text-align: right;\">\n",
       "      <th></th>\n",
       "      <th>Unv</th>\n",
       "      <th>Salary</th>\n",
       "    </tr>\n",
       "  </thead>\n",
       "  <tbody>\n",
       "    <tr>\n",
       "      <th>0</th>\n",
       "      <td>UoR</td>\n",
       "      <td>61</td>\n",
       "    </tr>\n",
       "    <tr>\n",
       "      <th>1</th>\n",
       "      <td>MIT</td>\n",
       "      <td>86</td>\n",
       "    </tr>\n",
       "    <tr>\n",
       "      <th>2</th>\n",
       "      <td>Kenyon</td>\n",
       "      <td>55</td>\n",
       "    </tr>\n",
       "    <tr>\n",
       "      <th>3</th>\n",
       "      <td>USC</td>\n",
       "      <td>65</td>\n",
       "    </tr>\n",
       "    <tr>\n",
       "      <th>4</th>\n",
       "      <td>CHC</td>\n",
       "      <td>64</td>\n",
       "    </tr>\n",
       "  </tbody>\n",
       "</table>\n",
       "</div>"
      ],
      "text/plain": [
       "      Unv  Salary\n",
       "0     UoR      61\n",
       "1     MIT      86\n",
       "2  Kenyon      55\n",
       "3     USC      65\n",
       "4     CHC      64"
      ]
     },
     "execution_count": 1,
     "metadata": {},
     "output_type": "execute_result"
    }
   ],
   "source": [
    "import pandas as pd\n",
    "\n",
    "import numpy as np\n",
    "\n",
    "import matplotlib.pyplot as plt\n",
    "\n",
    "%matplotlib inline\n",
    "\n",
    "\n",
    "unv =['UoR', 'MIT', 'Kenyon', 'USC', 'CHC']\n",
    "salary= [61, 86, 55, 65, 64]\n",
    "pd.DataFrame({'Unv': unv, 'Salary':salary})"
   ]
  },
  {
   "cell_type": "code",
   "execution_count": 2,
   "metadata": {},
   "outputs": [],
   "source": [
    "import pandas as pd\n",
    "\n",
    "import numpy as np\n",
    "\n",
    "import matplotlib.pyplot as plt\n",
    "\n"
   ]
  },
  {
   "cell_type": "code",
   "execution_count": 3,
   "metadata": {
    "scrolled": true
   },
   "outputs": [
    {
     "data": {
      "image/png": "[encoded data removed]",
      "text/plain": [
       "<Figure size 432x288 with 1 Axes>"
      ]
     },
     "metadata": {
      "needs_background": "light"
     },
     "output_type": "display_data"
    }
   ],
   "source": [
    "\n",
    "plt.figure()\n",
    "\n",
    "pos = np.arange(len(unv))\n",
    "\n",
    "plt.bar(pos, salary, align='center')\n",
    "plt.xticks(pos, unv)\n",
    "plt.ylabel('Early Career Pay in thousand dollars')\n",
    "plt.title('Early Career Pay for Some Colleges', alpha=0.8) \n",
    "\n",
    "plt.savefig('first_version.png')\n",
    "plt.show()\n",
    "\n",
    "\n"
   ]
  },
  {
   "cell_type": "code",
   "execution_count": 4,
   "metadata": {},
   "outputs": [
    {
     "data": {
      "image/png": "[encoded data removed]",
      "text/plain": [
       "<Figure size 432x288 with 1 Axes>"
      ]
     },
     "metadata": {
      "needs_background": "light"
     },
     "output_type": "display_data"
    }
   ],
   "source": [
    "plt.figure()\n",
    "\n",
    "pos = np.arange(len(unv))\n",
    "\n",
    "plt.bar(pos, salary, align='center')\n",
    "plt.xticks(pos, unv)\n",
    "plt.ylabel('Early Career Pay in thousand dollars')\n",
    "plt.title('Early Career Pay for Some Colleges', alpha=0.8)\n",
    "\n",
    "## Get rid of the ticks on the x-axis and y-axis\n",
    "\n",
    "plt.tick_params(left = False, bottom = False, labelleft = False, labelbottom = True)\n",
    "plt.savefig('second_version.png')\n",
    "\n",
    "\n",
    "plt.show()"
   ]
  },
  {
   "cell_type": "code",
   "execution_count": 10,
   "metadata": {},
   "outputs": [
    {
     "name": "stdout",
     "output_type": "stream",
     "text": [
      "Rectangle(xy=(-0.4, 0), width=0.8, height=61, angle=0)\n",
      "Rectangle(xy=(0.6, 0), width=0.8, height=86, angle=0)\n",
      "Rectangle(xy=(1.6, 0), width=0.8, height=55, angle=0)\n",
      "Rectangle(xy=(2.6, 0), width=0.8, height=65, angle=0)\n",
      "Rectangle(xy=(3.6, 0), width=0.8, height=64, angle=0)\n"
     ]
    }
   ],
   "source": [
    "for b in list(bars):\n",
    "    print(b)"
   ]
  },
  {
   "cell_type": "markdown",
   "metadata": {},
   "source": [
    "#### Let's get rid of the frame and y-axis label"
   ]
  },
  {
   "cell_type": "code",
   "execution_count": 7,
   "metadata": {},
   "outputs": [
    {
     "data": {
      "image/png": "[encoded data removed]",
      "text/plain": [
       "<Figure size 432x288 with 1 Axes>"
      ]
     },
     "metadata": {
      "needs_background": "light"
     },
     "output_type": "display_data"
    }
   ],
   "source": [
    "plt.figure()\n",
    "\n",
    "\n",
    "bars  = plt.bar(unv, salary, align='center', linewidth=0, color='lightslategrey')\n",
    "\n",
    "bars[2].set_color('#1F77B4')\n",
    "\n",
    "bars[1].set_color('forestgreen')\n",
    "\n",
    "\n",
    "plt.xticks(pos, unv)\n",
    "plt.xticks(pos, unv)\n",
    "plt.ylabel('Early Career Pay in thousand dollars')\n",
    "plt.title('Early Career Pay for Some Colleges', alpha=0.8) \n",
    "# remove all the ticks (both axes), and tick labels on the Y axis\n",
    "plt.tick_params(top= False, bottom=False, left= False, right= False, labelleft= False, labelbottom= True)\n",
    "\n",
    "\n",
    "# remove the frame of the chart\n",
    "for spine in plt.gca().spines.values():\n",
    "    spine.set_visible(False)\n",
    "    \n",
    "plt.savefig('third_version.png')\n",
    "\n",
    "plt.show()\n"
   ]
  },
  {
   "cell_type": "markdown",
   "metadata": {},
   "source": [
    "#### Add salaries as text"
   ]
  },
  {
   "cell_type": "code",
   "execution_count": 5,
   "metadata": {},
   "outputs": [
    {
     "data": {
      "image/png": "[encoded data removed]",
      "text/plain": [
       "<Figure size 432x288 with 1 Axes>"
      ]
     },
     "metadata": {
      "needs_background": "light"
     },
     "output_type": "display_data"
    }
   ],
   "source": [
    "plt.figure()\n",
    "\n",
    "bars  = plt.bar(unv, salary, align='center', linewidth=0, color='lightslategrey')\n",
    "\n",
    "bars[1].set_color('forestgreen')\n",
    "\n",
    "\n",
    "bars[2].set_color('#1F77B4')\n",
    "\n",
    "\n",
    "plt.xticks(pos, unv)\n",
    "plt.xticks(pos, unv)\n",
    "plt.title('Early Career Pay for Some Colleges', alpha=0.8) \n",
    "# remove all the ticks (both axes), and tick labels on the Y axis\n",
    "plt.tick_params(top= False, bottom=False, left= False, right= False, labelleft= False, labelbottom= True)\n",
    "\n",
    "\n",
    "# remove the frame of the chart\n",
    "for spine in plt.gca().spines.values():\n",
    "    spine.set_visible(False)\n",
    "\n",
    "# direct label each bar with Y axis values\n",
    "for bar in bars:\n",
    "    plt.gca().text(bar.get_x() + bar.get_width()/2, bar.get_height() - 5,\n",
    "                   str(int(bar.get_height())) + 'K', \n",
    "                 ha='center', color='w', fontsize=11)\n",
    "plt.savefig('final_version.png')\n",
    "\n",
    "plt.show()"
   ]
  },
  {
   "cell_type": "markdown",
   "metadata": {},
   "source": [
    "#### Further Work\n",
    "\n",
    "- [More advance techniques for visualization](https://towardsdatascience.com/the-next-level-of-data-visualization-in-python-dd6e99039d5e)\n",
    "\n",
    "- [Animation with matplotlib](https://towardsdatascience.com/how-to-create-animated-graphs-in-python-bb619cc2dec1)\n",
    "\n",
    "- [How to choose number of bins](http://users.stat.umn.edu/~gmeeden/papers/hist.pdf)\n",
    "\n",
    "- [Simple Data Visualization with Pandas](https://towardsdatascience.com/simple-data-visualisation-with-pandas-7a7a035bdc39)"
   ]
  },
  {
   "cell_type": "markdown",
   "metadata": {},
   "source": [
    "## Animation"
   ]
  },
  {
   "cell_type": "code",
   "execution_count": 11,
   "metadata": {},
   "outputs": [
    {
     "name": "stdout",
     "output_type": "stream",
     "text": [
      "Warning: Cannot change to a different GUI toolkit: notebook. Using qt instead.\n"
     ]
    }
   ],
   "source": [
    "import matplotlib.pyplot as plt\n",
    "import matplotlib.animation as animation\n",
    "\n",
    "import numpy as np\n",
    "%matplotlib qt\n",
    "%matplotlib notebook"
   ]
  },
  {
   "cell_type": "code",
   "execution_count": 12,
   "metadata": {},
   "outputs": [],
   "source": [
    "n = 200\n",
    "x = np.random.normal(loc= 0, scale = 1, size =200)\n",
    "\n",
    "def update(curr):\n",
    "    if curr == n:\n",
    "        a.event_source.stop()\n",
    "    plt.cla()\n",
    "    bins = np.arange(-4, 4, 0.5)\n",
    "    plt.hist(x[:curr], bins = bins)\n",
    "    plt.axis([-4,4,0, 100])\n",
    "    plt.annotate('n: {}'.format(curr), [3,27])\n",
    "\n",
    "fig = plt.figure()\n",
    "\n",
    "a = animation.FuncAnimation(fig, update, interval = 10)"
   ]
  },
  {
   "cell_type": "markdown",
   "metadata": {},
   "source": [
    "## Subplots and animation"
   ]
  },
  {
   "cell_type": "code",
   "execution_count": 19,
   "metadata": {},
   "outputs": [
    {
     "data": {
      "image/png": "[encoded data removed]",
      "text/plain": [
       "<Figure size 432x288 with 2 Axes>"
      ]
     },
     "metadata": {
      "needs_background": "light"
     },
     "output_type": "display_data"
    }
   ],
   "source": [
    "## let's discuss about subplots\n",
    "\n",
    "%matplotlib inline\n",
    "\n",
    "fig = plt.figure()\n",
    "plt.subplot(1,2,1)\n",
    "linear_data = np.array([1,2,3,4,5,6])\n",
    "plt.plot(linear_data, '-o')\n",
    "\n",
    "squared_data = linear_data**2\n",
    "plt.subplot(1,2,2)\n",
    "plt.plot(squared_data, '-x')\n",
    "\n",
    "\n",
    "plt.show()"
   ]
  },
  {
   "cell_type": "code",
   "execution_count": 8,
   "metadata": {},
   "outputs": [
    {
     "data": {
      "image/png": "[encoded data removed]",
      "text/plain": [
       "<Figure size 432x288 with 2 Axes>"
      ]
     },
     "metadata": {
      "needs_background": "light"
     },
     "output_type": "display_data"
    }
   ],
   "source": [
    "## different y-scale?? Let's fix it.\n",
    "\n",
    "%matplotlib inline\n",
    "\n",
    "fig = plt.figure()\n",
    "ax1 = plt.subplot(1,2,1)\n",
    "linear_data = np.array([1,2,3,4,5,6])\n",
    "plt.plot(linear_data, '-o', color = 'r')\n",
    "\n",
    "squared_data = linear_data**2\n",
    "ax2 = plt.subplot(1,2,2, sharey = ax1)\n",
    "plt.plot(squared_data, '-x')\n",
    "\n",
    "\n",
    "plt.show()"
   ]
  },
  {
   "cell_type": "code",
   "execution_count": 9,
   "metadata": {},
   "outputs": [
    {
     "data": {
      "image/png": "[encoded data removed]",
      "text/plain": [
       "<Figure size 432x288 with 3 Axes>"
      ]
     },
     "metadata": {
      "needs_background": "light"
     },
     "output_type": "display_data"
    }
   ],
   "source": [
    "import numpy as np\n",
    "import matplotlib.pyplot as plt\n",
    "\n",
    "\n",
    "def f(t):\n",
    "    return np.exp(-t) * np.cos(2*np.pi*t)\n",
    "\n",
    "\n",
    "t1 = np.arange(0.0, 3.0, 0.01)\n",
    "\n",
    "ax1 = plt.subplot(2,1,2)\n",
    "ax1.margins(0.05)           # Default margin is 0.05, value 0 means fit\n",
    "ax1.plot(t1, f(t1))\n",
    "\n",
    "ax2 = plt.subplot(2,2,1)\n",
    "ax2.margins(2, 2)           # Values >0.0 zoom out\n",
    "ax2.plot(t1, f(t1))\n",
    "ax2.set_title('Zoomed out')\n",
    "\n",
    "ax3 = plt.subplot(222)\n",
    "ax3.margins(x=0, y=-0.25)   # Values in (-0.5, 0.0) zooms in to center\n",
    "ax3.plot(t1, f(t1))\n",
    "ax3.set_title('Zoomed in')\n",
    "\n",
    "plt.show()\n"
   ]
  },
  {
   "cell_type": "code",
   "execution_count": 10,
   "metadata": {},
   "outputs": [],
   "source": [
    "plt.close()"
   ]
  },
  {
   "cell_type": "code",
   "execution_count": null,
   "metadata": {},
   "outputs": [],
   "source": []
  }
 ],
 "metadata": {
  "kernelspec": {
   "display_name": "Python 3",
   "language": "python",
   "name": "python3"
  },
  "language_info": {
   "codemirror_mode": {
    "name": "ipython",
    "version": 3
   },
   "file_extension": ".py",
   "mimetype": "text/x-python",
   "name": "python",
   "nbconvert_exporter": "python",
   "pygments_lexer": "ipython3",
   "version": "3.7.3"
  }
 },
 "nbformat": 4,
 "nbformat_minor": 2
}
