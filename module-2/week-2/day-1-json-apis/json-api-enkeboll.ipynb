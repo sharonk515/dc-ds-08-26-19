{
 "cells": [
  {
   "cell_type": "markdown",
   "metadata": {},
   "source": [
    "## Starting Off\n",
    "\n",
    "Run the cell of code below which imports a json file and then loads it into python. Investigate the resulting `data` variable and learn all you can abou the object. \n"
   ]
  },
  {
   "cell_type": "code",
   "execution_count": 2,
   "metadata": {},
   "outputs": [
    {
     "name": "stdout",
     "output_type": "stream",
     "text": [
      "{\"albums\": {\"href\": \"https://api.spotify.com/v1/browse/new-releases?country=SE&offset=0&limit=20\", \"items\": [{\"album_type\": \"single\", \"artists\": [{\"external_urls\": {\"spotify\": \"https://open.spotify.com/artist/2RdwBSPQiwcmiDo9kixcl8\"}, \"href\": \"https://api.spotify.com/v1/artists/2RdwBSPQiwcmiDo9kixcl8\", \"id\": \"2RdwBSPQiwcmiDo9kixcl8\", \"name\": \"Pharrell Williams\", \"type\": \"artist\", \"uri\": \"spotify:artist:2RdwBSPQiwcmiDo9kixcl8\"}], \"available_markets\": [\"AD\", \"AR\", \"AT\", \"AU\", \"BE\", \"BG\", \"BO\", \"BR\", \"CA\", \"CH\", \"CL\", \"CO\", \"CR\", \"CY\", \"CZ\", \"DE\", \"DK\", \"DO\", \"EC\", \"EE\", \"ES\", \"FI\", \"FR\", \"GB\", \"GR\", \"GT\", \"HK\", \"HN\", \"HU\", \"ID\", \"IE\", \"IS\", \"IT\", \"JP\", \"LI\", \"LT\", \"LU\", \"LV\", \"MC\", \"MT\", \"MX\", \"MY\", \"NI\", \"NL\", \"NO\", \"NZ\", \"PA\", \"PE\", \"PH\", \"PL\", \"PT\", \"PY\", \"SE\", \"SG\", \"SK\", \"SV\", \"TR\", \"TW\", \"US\", \"UY\"], \"external_urls\": {\"spotify\": \"https://open.spotify.com/album/5ZX4m5aVSmWQ5iHAPQpT71\"}, \"href\": \"https://api.spotify.com/v1/albums/5ZX4m5aVSmWQ5iHAPQpT71\", \"id\": \"5ZX4m5aVSmWQ5iHAPQpT71\", \"images\": [{\"height\": 640, \"url\": \"https://i.scdn.co/image/e6b635ebe3ef4ba22492f5698a7b5d417f78b88a\", \"width\": 640}, {\"height\": 300, \"url\": \"https://i.scdn.co/image/92ae5b0fe64870c09004dd2e745a4fb1bf7de39d\", \"width\": 300}, {\"height\": 64, \"url\": \"https://i.scdn.co/image/8a7ab6fc2c9f678308ba0f694ecd5718dc6bc930\", \"width\": 64}], \"name\": \"Runnin'\", \"type\": \"album\", \"uri\": \"spotify:album:5ZX4m5aVSmWQ5iHAPQpT71\"}, {\"album_type\": \"single\", \"artists\": [{\"external_urls\": {\"spotify\": \"https://open.spotify.com/artist/3TVXtAsR1Inumwj472S9r4\"}, \"href\": \"https://api.spotify.com/v1/artists/3TVXtAsR1Inumwj472S9r4\", \"id\": \"3TVXtAsR1Inumwj472S9r4\", \"name\": \"Drake\", \"type\": \"artist\", \"uri\": \"spotify:artist:3TVXtAsR1Inumwj472S9r4\"}], \"available_markets\": [\"AD\", \"AR\", \"AT\", \"AU\", \"BE\", \"BG\", \"BO\", \"BR\", \"CH\", \"CL\", \"CO\", \"CR\", \"CY\", \"CZ\", \"DE\", \"DK\", \"DO\", \"EC\", \"EE\", \"ES\", \"FI\", \"FR\", \"GB\", \"GR\", \"GT\", \"HK\", \"HN\", \"HU\", \"ID\", \"IE\", \"IS\", \"IT\", \"JP\", \"LI\", \"LT\", \"LU\", \"LV\", \"MC\", \"MT\", \"MY\", \"NI\", \"NL\", \"NO\", \"NZ\", \"PA\", \"PE\", \"PH\", \"PL\", \"PT\", \"PY\", \"SE\", \"SG\", \"SK\", \"SV\", \"TR\", \"TW\", \"UY\"], \"external_urls\": {\"spotify\": \"https://open.spotify.com/album/0geTzdk2InlqIoB16fW9Nd\"}, \"href\": \"https://api.spotify.com/v1/albums/0geTzdk2InlqIoB16fW9Nd\", \"id\": \"0geTzdk2InlqIoB16fW9Nd\", \"images\": [{\"height\": 640, \"url\": \"https://i.scdn.co/image/d40e9c3d22bde2fbdb2ecc03cccd7a0e77f42e4c\", \"width\": 640}, {\"height\": 300, \"url\": \"https://i.scdn.co/image/dff06a3375f6d9b32ecb081eb9a60bbafecb5731\", \"width\": 300}, {\"height\": 64, \"url\": \"https://i.scdn.co/image/808a02bd7fc59b0652c9df9f68675edbffe07a79\", \"width\": 64}], \"name\": \"Sneakin\\u2019\", \"type\": \"album\", \"uri\": \"spotify:album:0geTzdk2InlqIoB16fW9Nd\"}], \"limit\": 20, \"next\": \"https://api.spotify.com/v1/browse/new-releases?country=SE&offset=20&limit=20\", \"offset\": 0, \"previous\": null, \"total\": 500}}"
     ]
    }
   ],
   "source": [
    "!cat output.json | head -n1"
   ]
  },
  {
   "cell_type": "code",
   "execution_count": 18,
   "metadata": {},
   "outputs": [
    {
     "data": {
      "text/plain": [
       "{'albums': {'href': 'https://api.spotify.com/v1/browse/new-releases?country=SE&offset=0&limit=20',\n",
       "  'items': [{'album_type': 'single',\n",
       "    'artists': [{'external_urls': {'spotify': 'https://open.spotify.com/artist/2RdwBSPQiwcmiDo9kixcl8'},\n",
       "      'href': 'https://api.spotify.com/v1/artists/2RdwBSPQiwcmiDo9kixcl8',\n",
       "      'id': '2RdwBSPQiwcmiDo9kixcl8',\n",
       "      'name': 'Pharrell Williams',\n",
       "      'type': 'artist',\n",
       "      'uri': 'spotify:artist:2RdwBSPQiwcmiDo9kixcl8'}],\n",
       "    'available_markets': ['AD',\n",
       "     'AR',\n",
       "     'AT',\n",
       "     'AU',\n",
       "     'BE',\n",
       "     'BG',\n",
       "     'BO',\n",
       "     'BR',\n",
       "     'CA',\n",
       "     'CH',\n",
       "     'CL',\n",
       "     'CO',\n",
       "     'CR',\n",
       "     'CY',\n",
       "     'CZ',\n",
       "     'DE',\n",
       "     'DK',\n",
       "     'DO',\n",
       "     'EC',\n",
       "     'EE',\n",
       "     'ES',\n",
       "     'FI',\n",
       "     'FR',\n",
       "     'GB',\n",
       "     'GR',\n",
       "     'GT',\n",
       "     'HK',\n",
       "     'HN',\n",
       "     'HU',\n",
       "     'ID',\n",
       "     'IE',\n",
       "     'IS',\n",
       "     'IT',\n",
       "     'JP',\n",
       "     'LI',\n",
       "     'LT',\n",
       "     'LU',\n",
       "     'LV',\n",
       "     'MC',\n",
       "     'MT',\n",
       "     'MX',\n",
       "     'MY',\n",
       "     'NI',\n",
       "     'NL',\n",
       "     'NO',\n",
       "     'NZ',\n",
       "     'PA',\n",
       "     'PE',\n",
       "     'PH',\n",
       "     'PL',\n",
       "     'PT',\n",
       "     'PY',\n",
       "     'SE',\n",
       "     'SG',\n",
       "     'SK',\n",
       "     'SV',\n",
       "     'TR',\n",
       "     'TW',\n",
       "     'US',\n",
       "     'UY'],\n",
       "    'external_urls': {'spotify': 'https://open.spotify.com/album/5ZX4m5aVSmWQ5iHAPQpT71'},\n",
       "    'href': 'https://api.spotify.com/v1/albums/5ZX4m5aVSmWQ5iHAPQpT71',\n",
       "    'id': '5ZX4m5aVSmWQ5iHAPQpT71',\n",
       "    'images': [{'height': 640,\n",
       "      'url': 'https://i.scdn.co/image/e6b635ebe3ef4ba22492f5698a7b5d417f78b88a',\n",
       "      'width': 640},\n",
       "     {'height': 300,\n",
       "      'url': 'https://i.scdn.co/image/92ae5b0fe64870c09004dd2e745a4fb1bf7de39d',\n",
       "      'width': 300},\n",
       "     {'height': 64,\n",
       "      'url': 'https://i.scdn.co/image/8a7ab6fc2c9f678308ba0f694ecd5718dc6bc930',\n",
       "      'width': 64}],\n",
       "    'name': \"Runnin'\",\n",
       "    'type': 'album',\n",
       "    'uri': 'spotify:album:5ZX4m5aVSmWQ5iHAPQpT71'},\n",
       "   {'album_type': 'single',\n",
       "    'artists': [{'external_urls': {'spotify': 'https://open.spotify.com/artist/3TVXtAsR1Inumwj472S9r4'},\n",
       "      'href': 'https://api.spotify.com/v1/artists/3TVXtAsR1Inumwj472S9r4',\n",
       "      'id': '3TVXtAsR1Inumwj472S9r4',\n",
       "      'name': 'Drake',\n",
       "      'type': 'artist',\n",
       "      'uri': 'spotify:artist:3TVXtAsR1Inumwj472S9r4'}],\n",
       "    'available_markets': ['AD',\n",
       "     'AR',\n",
       "     'AT',\n",
       "     'AU',\n",
       "     'BE',\n",
       "     'BG',\n",
       "     'BO',\n",
       "     'BR',\n",
       "     'CH',\n",
       "     'CL',\n",
       "     'CO',\n",
       "     'CR',\n",
       "     'CY',\n",
       "     'CZ',\n",
       "     'DE',\n",
       "     'DK',\n",
       "     'DO',\n",
       "     'EC',\n",
       "     'EE',\n",
       "     'ES',\n",
       "     'FI',\n",
       "     'FR',\n",
       "     'GB',\n",
       "     'GR',\n",
       "     'GT',\n",
       "     'HK',\n",
       "     'HN',\n",
       "     'HU',\n",
       "     'ID',\n",
       "     'IE',\n",
       "     'IS',\n",
       "     'IT',\n",
       "     'JP',\n",
       "     'LI',\n",
       "     'LT',\n",
       "     'LU',\n",
       "     'LV',\n",
       "     'MC',\n",
       "     'MT',\n",
       "     'MY',\n",
       "     'NI',\n",
       "     'NL',\n",
       "     'NO',\n",
       "     'NZ',\n",
       "     'PA',\n",
       "     'PE',\n",
       "     'PH',\n",
       "     'PL',\n",
       "     'PT',\n",
       "     'PY',\n",
       "     'SE',\n",
       "     'SG',\n",
       "     'SK',\n",
       "     'SV',\n",
       "     'TR',\n",
       "     'TW',\n",
       "     'UY'],\n",
       "    'external_urls': {'spotify': 'https://open.spotify.com/album/0geTzdk2InlqIoB16fW9Nd'},\n",
       "    'href': 'https://api.spotify.com/v1/albums/0geTzdk2InlqIoB16fW9Nd',\n",
       "    'id': '0geTzdk2InlqIoB16fW9Nd',\n",
       "    'images': [{'height': 640,\n",
       "      'url': 'https://i.scdn.co/image/d40e9c3d22bde2fbdb2ecc03cccd7a0e77f42e4c',\n",
       "      'width': 640},\n",
       "     {'height': 300,\n",
       "      'url': 'https://i.scdn.co/image/dff06a3375f6d9b32ecb081eb9a60bbafecb5731',\n",
       "      'width': 300},\n",
       "     {'height': 64,\n",
       "      'url': 'https://i.scdn.co/image/808a02bd7fc59b0652c9df9f68675edbffe07a79',\n",
       "      'width': 64}],\n",
       "    'name': 'Sneakin’',\n",
       "    'type': 'album',\n",
       "    'uri': 'spotify:album:0geTzdk2InlqIoB16fW9Nd'}],\n",
       "  'limit': 20,\n",
       "  'next': 'https://api.spotify.com/v1/browse/new-releases?country=SE&offset=20&limit=20',\n",
       "  'offset': 0,\n",
       "  'previous': None,\n",
       "  'total': 500}}"
      ]
     },
     "execution_count": 18,
     "metadata": {},
     "output_type": "execute_result"
    }
   ],
   "source": [
    "import json\n",
    "f = open('output.json')\n",
    "data = json.load(f)\n",
    "data"
   ]
  },
  {
   "cell_type": "code",
   "execution_count": 8,
   "metadata": {},
   "outputs": [],
   "source": [
    "f.close()"
   ]
  },
  {
   "cell_type": "code",
   "execution_count": 9,
   "metadata": {},
   "outputs": [
    {
     "data": {
      "text/plain": [
       "True"
      ]
     },
     "execution_count": 9,
     "metadata": {},
     "output_type": "execute_result"
    }
   ],
   "source": [
    "f.closed"
   ]
  },
  {
   "cell_type": "code",
   "execution_count": 5,
   "metadata": {},
   "outputs": [
    {
     "data": {
      "text/plain": [
       "dict"
      ]
     },
     "execution_count": 5,
     "metadata": {},
     "output_type": "execute_result"
    }
   ],
   "source": [
    "type(data)"
   ]
  },
  {
   "cell_type": "code",
   "execution_count": 17,
   "metadata": {},
   "outputs": [
    {
     "data": {
      "text/plain": [
       "2"
      ]
     },
     "execution_count": 17,
     "metadata": {},
     "output_type": "execute_result"
    }
   ],
   "source": [
    "len(data['albums']['items'])"
   ]
  },
  {
   "cell_type": "markdown",
   "metadata": {},
   "source": [
    "# Using APIs and JSON Data"
   ]
  },
  {
   "cell_type": "markdown",
   "metadata": {},
   "source": [
    "## Objectives\n",
    "You will be able to:\n",
    "* Access and manipulate data inside a JSON file\n",
    "* Pull data from an API and parse/transform the data"
   ]
  },
  {
   "cell_type": "markdown",
   "metadata": {},
   "source": [
    "## Agenda\n",
    "\n",
    "* Review JSON Schemas\n",
    "* Introduce APIs.\n",
    "* Walk through how to make an API request. \n",
    "* Practice making API requests and Parsing the data.\n"
   ]
  },
  {
   "cell_type": "markdown",
   "metadata": {},
   "source": [
    "### What is the difference between a JSON and a python dictionary?"
   ]
  },
  {
   "cell_type": "markdown",
   "metadata": {},
   "source": [
    "## Loading the JSON file\n",
    "\n",
    "As before, we begin by importing the json package, opening a file with python's built in function, and then loading that data in."
   ]
  },
  {
   "cell_type": "code",
   "execution_count": 9,
   "metadata": {},
   "outputs": [],
   "source": [
    "import json\n",
    "f = open('output.json')\n",
    "data = json.load(f)"
   ]
  },
  {
   "cell_type": "markdown",
   "metadata": {},
   "source": [
    "## Exploring JSON Schemas  \n",
    "\n",
    "Recall that JSON files have a nested structure. The most granular level of raw data will be individual numbers (float/int) and strings. These in turn will be stored in the equivalent of python lists and dictionaries. Because these can be combined, we'll start exploring by checking the type of our root object, and start mapping out the hierarchy of the json file."
   ]
  },
  {
   "cell_type": "code",
   "execution_count": 10,
   "metadata": {},
   "outputs": [
    {
     "data": {
      "text/plain": [
       "dict"
      ]
     },
     "execution_count": 10,
     "metadata": {},
     "output_type": "execute_result"
    }
   ],
   "source": [
    "type(data)"
   ]
  },
  {
   "cell_type": "code",
   "execution_count": 4,
   "metadata": {
    "collapsed": true
   },
   "outputs": [
    {
     "data": {
      "text/plain": [
       "{'albums': {'href': 'https://api.spotify.com/v1/browse/new-releases?country=SE&offset=0&limit=20',\n",
       "  'items': [{'album_type': 'single',\n",
       "    'artists': [{'external_urls': {'spotify': 'https://open.spotify.com/artist/2RdwBSPQiwcmiDo9kixcl8'},\n",
       "      'href': 'https://api.spotify.com/v1/artists/2RdwBSPQiwcmiDo9kixcl8',\n",
       "      'id': '2RdwBSPQiwcmiDo9kixcl8',\n",
       "      'name': 'Pharrell Williams',\n",
       "      'type': 'artist',\n",
       "      'uri': 'spotify:artist:2RdwBSPQiwcmiDo9kixcl8'}],\n",
       "    'available_markets': ['AD',\n",
       "     'AR',\n",
       "     'AT',\n",
       "     'AU',\n",
       "     'BE',\n",
       "     'BG',\n",
       "     'BO',\n",
       "     'BR',\n",
       "     'CA',\n",
       "     'CH',\n",
       "     'CL',\n",
       "     'CO',\n",
       "     'CR',\n",
       "     'CY',\n",
       "     'CZ',\n",
       "     'DE',\n",
       "     'DK',\n",
       "     'DO',\n",
       "     'EC',\n",
       "     'EE',\n",
       "     'ES',\n",
       "     'FI',\n",
       "     'FR',\n",
       "     'GB',\n",
       "     'GR',\n",
       "     'GT',\n",
       "     'HK',\n",
       "     'HN',\n",
       "     'HU',\n",
       "     'ID',\n",
       "     'IE',\n",
       "     'IS',\n",
       "     'IT',\n",
       "     'JP',\n",
       "     'LI',\n",
       "     'LT',\n",
       "     'LU',\n",
       "     'LV',\n",
       "     'MC',\n",
       "     'MT',\n",
       "     'MX',\n",
       "     'MY',\n",
       "     'NI',\n",
       "     'NL',\n",
       "     'NO',\n",
       "     'NZ',\n",
       "     'PA',\n",
       "     'PE',\n",
       "     'PH',\n",
       "     'PL',\n",
       "     'PT',\n",
       "     'PY',\n",
       "     'SE',\n",
       "     'SG',\n",
       "     'SK',\n",
       "     'SV',\n",
       "     'TR',\n",
       "     'TW',\n",
       "     'US',\n",
       "     'UY'],\n",
       "    'external_urls': {'spotify': 'https://open.spotify.com/album/5ZX4m5aVSmWQ5iHAPQpT71'},\n",
       "    'href': 'https://api.spotify.com/v1/albums/5ZX4m5aVSmWQ5iHAPQpT71',\n",
       "    'id': '5ZX4m5aVSmWQ5iHAPQpT71',\n",
       "    'images': [{'height': 640,\n",
       "      'url': 'https://i.scdn.co/image/e6b635ebe3ef4ba22492f5698a7b5d417f78b88a',\n",
       "      'width': 640},\n",
       "     {'height': 300,\n",
       "      'url': 'https://i.scdn.co/image/92ae5b0fe64870c09004dd2e745a4fb1bf7de39d',\n",
       "      'width': 300},\n",
       "     {'height': 64,\n",
       "      'url': 'https://i.scdn.co/image/8a7ab6fc2c9f678308ba0f694ecd5718dc6bc930',\n",
       "      'width': 64}],\n",
       "    'name': \"Runnin'\",\n",
       "    'type': 'album',\n",
       "    'uri': 'spotify:album:5ZX4m5aVSmWQ5iHAPQpT71'},\n",
       "   {'album_type': 'single',\n",
       "    'artists': [{'external_urls': {'spotify': 'https://open.spotify.com/artist/3TVXtAsR1Inumwj472S9r4'},\n",
       "      'href': 'https://api.spotify.com/v1/artists/3TVXtAsR1Inumwj472S9r4',\n",
       "      'id': '3TVXtAsR1Inumwj472S9r4',\n",
       "      'name': 'Drake',\n",
       "      'type': 'artist',\n",
       "      'uri': 'spotify:artist:3TVXtAsR1Inumwj472S9r4'}],\n",
       "    'available_markets': ['AD',\n",
       "     'AR',\n",
       "     'AT',\n",
       "     'AU',\n",
       "     'BE',\n",
       "     'BG',\n",
       "     'BO',\n",
       "     'BR',\n",
       "     'CH',\n",
       "     'CL',\n",
       "     'CO',\n",
       "     'CR',\n",
       "     'CY',\n",
       "     'CZ',\n",
       "     'DE',\n",
       "     'DK',\n",
       "     'DO',\n",
       "     'EC',\n",
       "     'EE',\n",
       "     'ES',\n",
       "     'FI',\n",
       "     'FR',\n",
       "     'GB',\n",
       "     'GR',\n",
       "     'GT',\n",
       "     'HK',\n",
       "     'HN',\n",
       "     'HU',\n",
       "     'ID',\n",
       "     'IE',\n",
       "     'IS',\n",
       "     'IT',\n",
       "     'JP',\n",
       "     'LI',\n",
       "     'LT',\n",
       "     'LU',\n",
       "     'LV',\n",
       "     'MC',\n",
       "     'MT',\n",
       "     'MY',\n",
       "     'NI',\n",
       "     'NL',\n",
       "     'NO',\n",
       "     'NZ',\n",
       "     'PA',\n",
       "     'PE',\n",
       "     'PH',\n",
       "     'PL',\n",
       "     'PT',\n",
       "     'PY',\n",
       "     'SE',\n",
       "     'SG',\n",
       "     'SK',\n",
       "     'SV',\n",
       "     'TR',\n",
       "     'TW',\n",
       "     'UY'],\n",
       "    'external_urls': {'spotify': 'https://open.spotify.com/album/0geTzdk2InlqIoB16fW9Nd'},\n",
       "    'href': 'https://api.spotify.com/v1/albums/0geTzdk2InlqIoB16fW9Nd',\n",
       "    'id': '0geTzdk2InlqIoB16fW9Nd',\n",
       "    'images': [{'height': 640,\n",
       "      'url': 'https://i.scdn.co/image/d40e9c3d22bde2fbdb2ecc03cccd7a0e77f42e4c',\n",
       "      'width': 640},\n",
       "     {'height': 300,\n",
       "      'url': 'https://i.scdn.co/image/dff06a3375f6d9b32ecb081eb9a60bbafecb5731',\n",
       "      'width': 300},\n",
       "     {'height': 64,\n",
       "      'url': 'https://i.scdn.co/image/808a02bd7fc59b0652c9df9f68675edbffe07a79',\n",
       "      'width': 64}],\n",
       "    'name': 'Sneakin’',\n",
       "    'type': 'album',\n",
       "    'uri': 'spotify:album:0geTzdk2InlqIoB16fW9Nd'}],\n",
       "  'limit': 20,\n",
       "  'next': 'https://api.spotify.com/v1/browse/new-releases?country=SE&offset=20&limit=20',\n",
       "  'offset': 0,\n",
       "  'previous': None,\n",
       "  'total': 500}}"
      ]
     },
     "execution_count": 4,
     "metadata": {},
     "output_type": "execute_result"
    }
   ],
   "source": [
    "data"
   ]
  },
  {
   "cell_type": "markdown",
   "metadata": {},
   "source": [
    "As you can see, in this case, the first level of the hierarchy is a dictionary. Let's explore what keys are within this:"
   ]
  },
  {
   "cell_type": "code",
   "execution_count": 19,
   "metadata": {},
   "outputs": [
    {
     "data": {
      "text/plain": [
       "dict_keys(['albums'])"
      ]
     },
     "execution_count": 19,
     "metadata": {},
     "output_type": "execute_result"
    }
   ],
   "source": [
    "data.keys()"
   ]
  },
  {
   "cell_type": "markdown",
   "metadata": {},
   "source": [
    "In this case, there is only a single key, 'albums', so we'll continue on down the pathway exploring and mapping out the hierarchy. Once again, let's start by checking the type of this nested data structure."
   ]
  },
  {
   "cell_type": "code",
   "execution_count": 20,
   "metadata": {},
   "outputs": [
    {
     "data": {
      "text/plain": [
       "dict"
      ]
     },
     "execution_count": 20,
     "metadata": {},
     "output_type": "execute_result"
    }
   ],
   "source": [
    "type(data['albums'])"
   ]
  },
  {
   "cell_type": "markdown",
   "metadata": {},
   "source": [
    "Another dictionary! So thus far, we have a dictionary within a dictionary. Once again, let's investigate what's within this dictionary (JSON calls the equivalent of Python dictionaries Objects.)"
   ]
  },
  {
   "cell_type": "code",
   "execution_count": 5,
   "metadata": {},
   "outputs": [
    {
     "data": {
      "text/plain": [
       "dict_keys(['href', 'items', 'limit', 'next', 'offset', 'previous', 'total'])"
      ]
     },
     "execution_count": 5,
     "metadata": {},
     "output_type": "execute_result"
    }
   ],
   "source": [
    "data['albums'].keys()"
   ]
  },
  {
   "cell_type": "markdown",
   "metadata": {},
   "source": [
    "At this point, things are starting to look something like this: \n",
    "<img src=\"images\\json_diagram1.JPG\" width=550>"
   ]
  },
  {
   "cell_type": "markdown",
   "metadata": {},
   "source": [
    "At this point, if we were to continue checking individual data types, we have a lot to go through. To simplify this, let's use a for loop:"
   ]
  },
  {
   "cell_type": "code",
   "execution_count": 21,
   "metadata": {},
   "outputs": [
    {
     "name": "stdout",
     "output_type": "stream",
     "text": [
      "href <class 'str'>\n",
      "items <class 'list'>\n",
      "limit <class 'int'>\n",
      "next <class 'str'>\n",
      "offset <class 'int'>\n",
      "previous <class 'NoneType'>\n",
      "total <class 'int'>\n"
     ]
    }
   ],
   "source": [
    "for key in data['albums'].keys():\n",
    "    print(key, type(data['albums'][key]))"
   ]
  },
  {
   "cell_type": "markdown",
   "metadata": {},
   "source": [
    "Adding this to our diagram we now have something like this:\n",
    "<img src=\"images\\json_diagram2.JPG\" width=550>"
   ]
  },
  {
   "cell_type": "markdown",
   "metadata": {},
   "source": [
    "Normally, you may not draw out the full diagram as done here, but its a useful picture to have in mind, and in complex schemas, can be useful to map out. At this point, you also probably have a good idea of the general structure of the json file. However, there is still the list of items, which we could investigate further:"
   ]
  },
  {
   "cell_type": "markdown",
   "metadata": {},
   "source": [
    "## What is an API?"
   ]
  },
  {
   "cell_type": "markdown",
   "metadata": {},
   "source": [
    "**Application Program Interfaces**, or APIs, are commonly used to retrieve data from remote websites. Sites like Reddit, Twitter, and Facebook all offer certain data through their APIs. \n",
    "\n",
    "To use an API, you make a request to a remote web server, and retrieve the data you need."
   ]
  },
  {
   "cell_type": "markdown",
   "metadata": {},
   "source": [
    "Python with two built-in modules, `urllib` and `urllib2` to handle these requests but these could be very confusing  and the documentation is not clear.\n",
    "\n",
    "To make these things simpler, one easy-to-use third-party library, known as` Requests`, is what most developers prefer to use it instead or urllib/urllib2. With this library, you can access content like web page headers, form data, files, and parameters via simple Python commands. It also allows you to access the response data in a simple way."
   ]
  },
  {
   "cell_type": "markdown",
   "metadata": {},
   "source": [
    "![](images\\logo.png)"
   ]
  },
  {
   "cell_type": "markdown",
   "metadata": {},
   "source": [
    "Below is how you would install and import the requests library before making any requests. \n",
    "```python\n",
    "# Uncomment and install requests if you dont have it already\n",
    "# !pip install requests\n",
    "\n",
    "# Import requests to working environment\n",
    "import requests\n",
    "```"
   ]
  },
  {
   "cell_type": "code",
   "execution_count": 22,
   "metadata": {},
   "outputs": [],
   "source": [
    "import requests\n",
    "requests."
   ]
  },
  {
   "cell_type": "markdown",
   "metadata": {},
   "source": [
    "\n",
    "## The `.get()` Method\n",
    "\n",
    "Now we have requests library ready in our working environment, we can start making some requests using the `.get()` method as shown below:\n",
    "\n",
    "\n",
    "We can use a simple GET request to retrieve information from the OpenNotify API.\n",
    "\n",
    "\n",
    "\n",
    "\n",
    "OpenNotify has several API endpoints. An endpoint is a server route that is used to retrieve different data from the API. For example, the /comments endpoint on the Reddit API might retrieve information about comments, whereas the /users endpoint might retrieve data about users. To access them, you would add the endpoint to the base url of the API.\n",
    "\n"
   ]
  },
  {
   "cell_type": "code",
   "execution_count": 23,
   "metadata": {},
   "outputs": [
    {
     "name": "stdout",
     "output_type": "stream",
     "text": [
      "200\n"
     ]
    }
   ],
   "source": [
    "# Make a get request to get the latest position of the international space station from the opennotify api.\n",
    "response = requests.get(\"http://api.open-notify.org/iss-now.json\")\n",
    "# Print the status code of the response.\n",
    "print(response.status_code)"
   ]
  },
  {
   "cell_type": "code",
   "execution_count": 33,
   "metadata": {},
   "outputs": [
    {
     "data": {
      "text/plain": [
       "{'iss_position': {'latitude': '-20.4100', 'longitude': '-122.7519'},\n",
       " 'message': 'success',\n",
       " 'timestamp': 1568647742}"
      ]
     },
     "execution_count": 33,
     "metadata": {},
     "output_type": "execute_result"
    }
   ],
   "source": [
    "response.json()"
   ]
  },
  {
   "cell_type": "markdown",
   "metadata": {},
   "source": [
    "\n",
    "GET is by far the most used HTTP method. We can use GET request to retrieve data from any destination. \n",
    "GET is by far the most used HTTP method. We can use GET request to retrieve data from any destination. \n",
    "\n",
    "## Status Codes\n",
    "The request we make may not be always successful. The best way is to check the status code which gets returned with the response. Here is how you would do this. \n"
   ]
  },
  {
   "cell_type": "code",
   "execution_count": 34,
   "metadata": {},
   "outputs": [
    {
     "data": {
      "text/plain": [
       "True"
      ]
     },
     "execution_count": 34,
     "metadata": {},
     "output_type": "execute_result"
    }
   ],
   "source": [
    "# Code here \n",
    "response.status_code == requests.codes.ok"
   ]
  },
  {
   "cell_type": "code",
   "execution_count": 39,
   "metadata": {},
   "outputs": [
    {
     "data": {
      "text/plain": [
       "418"
      ]
     },
     "execution_count": 39,
     "metadata": {},
     "output_type": "execute_result"
    }
   ],
   "source": [
    "requests.codes.i_am_a_teapot"
   ]
  },
  {
   "cell_type": "markdown",
   "metadata": {},
   "source": [
    "So this is a good check to see if our request was successful. Depending on the status of the web server, the access rights of the clients and availibility of requested information. A web server may return a number of status codes within the response. Wikipedia has an exhaustive details on all these codes. [Check them out here](https://en.wikipedia.org/wiki/List_of_HTTP_status_codes)"
   ]
  },
  {
   "cell_type": "markdown",
   "metadata": {},
   "source": [
    "### Common status codes\n",
    "\n",
    "* 200 — everything went okay, and the result has been returned (if any)\n",
    "* 301 — the server is redirecting you to a different endpoint. This can happen when a company switches domain names, or an endpoint name is changed.\n",
    "* 401 — the server thinks you’re not authenticated. This happens when you don’t send the right credentials to access an API (we’ll talk about authentication in a later post).\n",
    "* 400 — the server thinks you made a bad request. This can happen when you don’t send along the right data, among other things.\n",
    "* 403 — the resource you’re trying to access is forbidden — you don’t have the right permissions to see it.\n",
    "* 404 — the resource you tried to access wasn’t found on the server."
   ]
  },
  {
   "cell_type": "markdown",
   "metadata": {},
   "source": [
    "### Hitting the right endpoint\n",
    "iss-pass wasn’t a valid endpoint, so we got a 404 status code in response. We forgot to add `.json` at the end, as the API documentation states.\n",
    "\n",
    "We’ll now make a GET request to http://api.open-notify.org/iss-pass.json."
   ]
  },
  {
   "cell_type": "markdown",
   "metadata": {},
   "source": [
    "\n",
    "## Response Contents\n",
    "Once we know that our request was successful and we have a valid response, we can check the returned information using `.text` property of the response object. \n",
    "```python\n",
    "print (resp.text)\n",
    "```"
   ]
  },
  {
   "cell_type": "code",
   "execution_count": 40,
   "metadata": {},
   "outputs": [
    {
     "data": {
      "text/plain": [
       "<Response [200]>"
      ]
     },
     "execution_count": 40,
     "metadata": {},
     "output_type": "execute_result"
    }
   ],
   "source": [
    "response"
   ]
  },
  {
   "cell_type": "code",
   "execution_count": 44,
   "metadata": {},
   "outputs": [
    {
     "name": "stdout",
     "output_type": "stream",
     "text": [
      "200\n"
     ]
    }
   ],
   "source": [
    "response = requests.get(\"http://api.open-notify.org/iss-pass.json?lat=38.9073&lon=-77.0369\")\n",
    "print(response.status_code)\n"
   ]
  },
  {
   "cell_type": "code",
   "execution_count": 45,
   "metadata": {},
   "outputs": [
    {
     "name": "stdout",
     "output_type": "stream",
     "text": [
      "{\n",
      "  \"message\": \"success\", \n",
      "  \"request\": {\n",
      "    \"altitude\": 100, \n",
      "    \"datetime\": 1568648437, \n",
      "    \"latitude\": 38.9073, \n",
      "    \"longitude\": -77.0369, \n",
      "    \"passes\": 5\n",
      "  }, \n",
      "  \"response\": [\n",
      "    {\n",
      "      \"duration\": 456, \n",
      "      \"risetime\": 1568678350\n",
      "    }, \n",
      "    {\n",
      "      \"duration\": 646, \n",
      "      \"risetime\": 1568684024\n",
      "    }, \n",
      "    {\n",
      "      \"duration\": 589, \n",
      "      \"risetime\": 1568689876\n",
      "    }, \n",
      "    {\n",
      "      \"duration\": 512, \n",
      "      \"risetime\": 1568695784\n",
      "    }, \n",
      "    {\n",
      "      \"duration\": 570, \n",
      "      \"risetime\": 1568701630\n",
      "    }\n",
      "  ]\n",
      "}\n",
      "\n"
     ]
    }
   ],
   "source": [
    "# Code here \n",
    "print(response.text)"
   ]
  },
  {
   "cell_type": "markdown",
   "metadata": {},
   "source": [
    "### Query parameters\n",
    "\n",
    "If you look at the documentation for the OpenNotify API, we see that the ISS Pass endpoint requires two parameters.\n",
    "\n",
    "We can do this by adding an optional keyword argument, params, to our request. In this case, there are two parameters we need to pass:\n",
    "\n",
    "* lat — The latitude of the location we want.\n",
    "* lon — The longitude of the location we want.\n",
    "We can make a dictionary with these parameters, and then pass them into the requests.get function.\n",
    "\n",
    "We can also do the same thing directly by adding the query parameters to the url, like this: http://api.open-notify.org/iss-pass.json?lat=40.71&lon=-74.\n",
    "\n",
    "It’s almost always preferable to setup the parameters as a dictionary, because requests takes care of some things that come up, like properly formatting the query parameters.\n",
    "\n",
    "We’ll make a request using the coordinates of New York City, and see what response we get."
   ]
  },
  {
   "cell_type": "code",
   "execution_count": 51,
   "metadata": {},
   "outputs": [
    {
     "name": "stdout",
     "output_type": "stream",
     "text": [
      "{'message': 'success', 'request': {'altitude': 100, 'datetime': 1568648151, 'latitude': 40.71, 'longitude': -74.0, 'passes': 5}, 'response': [{'duration': 480, 'risetime': 1568678383}, {'duration': 647, 'risetime': 1568684071}, {'duration': 601, 'risetime': 1568689917}, {'duration': 553, 'risetime': 1568695803}, {'duration': 607, 'risetime': 1568701637}]}\n"
     ]
    }
   ],
   "source": [
    "# Set up the parameters we want to pass to the API.\n",
    "# This is the latitude and longitude of New York City.\n",
    "parameters = {\"lat\": 40.71, \"lon\": -74}\n",
    "\n",
    "\n",
    "# Make a get request with the parameters.\n",
    "response = requests.get(\"http://api.open-notify.org/iss-pass.json\", params=parameters)\n",
    "\n",
    "\n",
    "# Print the content of the response (the data the server returned)\n",
    "print(response.json())\n"
   ]
  },
  {
   "cell_type": "code",
   "execution_count": 58,
   "metadata": {},
   "outputs": [
    {
     "name": "stdout",
     "output_type": "stream",
     "text": [
      "http://api.open-notify.org/iss-pass.json?lat=40.71&lon=-70\n",
      "http://api.open-notify.org/iss-pass.json?lat=40.71&lon=-71\n",
      "http://api.open-notify.org/iss-pass.json?lat=40.71&lon=-72\n",
      "http://api.open-notify.org/iss-pass.json?lat=40.71&lon=-73\n"
     ]
    }
   ],
   "source": [
    "for lon in range(70,74):\n",
    "    # Set up the parameters we want to pass to the API.\n",
    "    # This is the latitude and longitude of New York City.\n",
    "    parameters = {\"lat\": 40.71, \"lon\": -lon}\n",
    "    headers = {'User-agent': 'WeWork'}\n",
    "\n",
    "\n",
    "    # Make a get request with the parameters.\n",
    "    response = requests.get(\"http://api.open-notify.org/iss-pass.json\",\n",
    "                            params=parameters,\n",
    "                            headers=headers)\n",
    "\n",
    "\n",
    "    # Print the content of the response (the data the server returned)\n",
    "    print(response.url)\n"
   ]
  },
  {
   "cell_type": "code",
   "execution_count": 49,
   "metadata": {},
   "outputs": [
    {
     "data": {
      "text/plain": [
       "'http://api.open-notify.org/iss-pass.json?lat=40.71&lon=-74'"
      ]
     },
     "execution_count": 49,
     "metadata": {},
     "output_type": "execute_result"
    }
   ],
   "source": [
    "response.url"
   ]
  },
  {
   "cell_type": "markdown",
   "metadata": {},
   "source": [
    "So this returns a lot of information which by default is not really human understandable due to data encoding, HTML tags and other styling information that only a web browser can truly translate. In later lessons we shall look at how we can use ** Regular Exprerssions**  to clean this information and extract the required bits and pieces for analysis. \n",
    "\n",
    "## Response Headers\n",
    "The response of an HTTP request can contain many headers that holds different bits of information. We can use `.header` property of the response object to access the header information as shown below:\n"
   ]
  },
  {
   "cell_type": "code",
   "execution_count": 55,
   "metadata": {},
   "outputs": [
    {
     "data": {
      "text/plain": [
       "{'Connection': 'keep-alive',\n",
       " 'Content-Length': '519',\n",
       " 'Content-Type': 'application/json',\n",
       " 'Date': 'Mon, 16 Sep 2019 15:51:14 GMT',\n",
       " 'Server': 'nginx/1.10.3',\n",
       " 'Via': '1.1 vegur'}"
      ]
     },
     "execution_count": 55,
     "metadata": {},
     "output_type": "execute_result"
    }
   ],
   "source": [
    "# Code here \n",
    "dict(response.headers)"
   ]
  },
  {
   "cell_type": "code",
   "execution_count": 59,
   "metadata": {},
   "outputs": [
    {
     "data": {
      "text/plain": [
       "{'User-agent': 'WeWork', 'Accept-Encoding': 'gzip, deflate', 'Accept': '*/*', 'Connection': 'keep-alive'}"
      ]
     },
     "execution_count": 59,
     "metadata": {},
     "output_type": "execute_result"
    }
   ],
   "source": [
    "response.request.headers"
   ]
  },
  {
   "cell_type": "code",
   "execution_count": null,
   "metadata": {},
   "outputs": [],
   "source": []
  },
  {
   "cell_type": "markdown",
   "metadata": {},
   "source": [
    "The content of the headers is our required element. You can see the key-value pairs holding various pieces of  information about the resource and request. Let's try to parse some of these values using the requests library:\n",
    "\n",
    "```python\n",
    "print(resp.headers['Content-Length'])  # length of the response\n",
    "print(resp.headers['Date'])  # Date the response was sent\n",
    "print(resp.headers['server'])   # Server type (google web service - GWS)\n",
    "```"
   ]
  },
  {
   "cell_type": "markdown",
   "metadata": {},
   "source": [
    "\n",
    "## HTTP POST method \n",
    "\n",
    "Sometimes we need to send one or more files simultaneously to the server. For example, if a user is submitting a form and the form includes different fields for uploading files, like user profile picture, user resume, etc. Requests can handle multiple files on a single request. This can be achieved by putting the files to a list of tuples in the form (`field_name, file_info)`.\n",
    "\n",
    "\n",
    "```python\n",
    "import requests\n",
    "\n",
    "url = 'http://httpbin.org/post'  \n",
    "file_list = [  \n",
    "    ('image', ('fi.png', open('fi.png', 'rb'), 'image/png')),\n",
    "    ('image', ('fi2.jpeg', open('fi2.jpeg', 'rb'), 'image/png'))\n",
    "]\n",
    "\n",
    "r = requests.post(url, files=file_list)  \n",
    "print(r.text)  \n",
    "```"
   ]
  },
  {
   "cell_type": "markdown",
   "metadata": {},
   "source": [
    "![](quota.png)"
   ]
  },
  {
   "cell_type": "code",
   "execution_count": 13,
   "metadata": {},
   "outputs": [
    {
     "name": "stdout",
     "output_type": "stream",
     "text": [
      "{\n",
      "  \"args\": {}, \n",
      "  \"data\": \"\", \n",
      "  \"files\": {\n",
      "    \"image\": \"data:image/png;base64,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\"\n",
      "  }, \n",
      "  \"form\": {}, \n",
      "  \"headers\": {\n",
      "    \"Accept\": \"*/*\", \n",
      "    \"Accept-Encoding\": \"gzip, deflate\", \n",
      "    \"Content-Length\": \"303559\", \n",
      "    \"Content-Type\": \"multipart/form-data; boundary=cd5e7724f45dae393945fe70478350c5\", \n",
      "    \"Host\": \"httpbin.org\", \n",
      "    \"User-Agent\": \"python-requests/2.22.0\"\n",
      "  }, \n",
      "  \"json\": null, \n",
      "  \"origin\": \"65.207.79.74, 65.207.79.74\", \n",
      "  \"url\": \"https://httpbin.org/post\"\n",
      "}\n",
      "\n"
     ]
    }
   ],
   "source": [
    "import requests\n",
    "\n",
    "url = 'http://httpbin.org/post'  \n",
    "file_list = [  \n",
    "    ('image', ('logo.png', open('images/logo.png', 'rb'), 'image/png')),\n",
    "    ('image', ('yelp_app.png', open('images/yelp_app.png', 'rb'), 'image/png'))\n",
    "]\n",
    "\n",
    "r = requests.post(url, files=file_list)  \n",
    "print(r.text)\n"
   ]
  },
  {
   "cell_type": "code",
   "execution_count": 14,
   "metadata": {},
   "outputs": [],
   "source": [
    "img = r.json()['files']['image']"
   ]
  },
  {
   "cell_type": "code",
   "execution_count": 16,
   "metadata": {},
   "outputs": [
    {
     "data": {
      "image/png": "[encoded data removed]",
      "text/plain": [
       "<IPython.core.display.Image object>"
      ]
     },
     "execution_count": 16,
     "metadata": {},
     "output_type": "execute_result"
    }
   ],
   "source": [
    "from IPython.display import Image\n",
    "import base64\n",
    "data = base64.b64decode(img.replace('data:image/png;base64,', '').replace(' ', '+'))\n",
    "Image(data)"
   ]
  },
  {
   "cell_type": "code",
   "execution_count": 10,
   "metadata": {},
   "outputs": [
    {
     "ename": "UnicodeDecodeError",
     "evalue": "'ascii' codec can't decode byte 0x89 in position 0: ordinal not in range(128)",
     "output_type": "error",
     "traceback": [
      "\u001b[0;31m---------------------------------------------------------------------------\u001b[0m",
      "\u001b[0;31mUnicodeDecodeError\u001b[0m                        Traceback (most recent call last)",
      "\u001b[0;32m<ipython-input-10-eb656b3d783c>\u001b[0m in \u001b[0;36m<module>\u001b[0;34m()\u001b[0m\n\u001b[1;32m      2\u001b[0m \u001b[0mimg_raw\u001b[0m \u001b[0;34m=\u001b[0m \u001b[0mf\u001b[0m\u001b[0;34m.\u001b[0m\u001b[0mread\u001b[0m\u001b[0;34m(\u001b[0m\u001b[0;34m)\u001b[0m\u001b[0;34m\u001b[0m\u001b[0;34m\u001b[0m\u001b[0m\n\u001b[1;32m      3\u001b[0m \u001b[0mf\u001b[0m\u001b[0;34m.\u001b[0m\u001b[0mclose\u001b[0m\u001b[0;34m(\u001b[0m\u001b[0;34m)\u001b[0m\u001b[0;34m\u001b[0m\u001b[0;34m\u001b[0m\u001b[0m\n\u001b[0;32m----> 4\u001b[0;31m \u001b[0mimg_raw\u001b[0m\u001b[0;34m.\u001b[0m\u001b[0mdecode\u001b[0m\u001b[0;34m(\u001b[0m\u001b[0;34m'ascii'\u001b[0m\u001b[0;34m)\u001b[0m\u001b[0;34m\u001b[0m\u001b[0;34m\u001b[0m\u001b[0m\n\u001b[0m",
      "\u001b[0;31mUnicodeDecodeError\u001b[0m: 'ascii' codec can't decode byte 0x89 in position 0: ordinal not in range(128)"
     ]
    }
   ],
   "source": [
    "f = open('images/logo.png', 'rb')\n",
    "img_raw = f.read()\n",
    "f.close()\n",
    "img_raw.encode"
   ]
  },
  {
   "cell_type": "markdown",
   "metadata": {},
   "source": [
    "\n",
    "## Generating Access Tokens\n",
    "\n",
    "As discussed, in order to use many APIs, one needs to use OAuth which requires an access token. As such, our first step will be to generate this login information so that we can start making some requests.  \n",
    "\n",
    "With that, lets go grab an access token from an API site and make some API calls!\n",
    "Point your browser over to this [yelp page](https://www.yelp.com/developers/v3/manage_app) and start creating an app in order to obtain and api access token:"
   ]
  },
  {
   "cell_type": "markdown",
   "metadata": {},
   "source": [
    "\n",
    "![](./images/yelp_app.png)"
   ]
  },
  {
   "cell_type": "markdown",
   "metadata": {},
   "source": [
    "You can either sign in to an existing Yelp account, or create a new one, if needed.\n",
    "\n",
    "On the page you see above, simply fill out some sample information such as \"Flatiron Edu API Example\" for the app name, or whatever floats your boat. Afterwards, you should be presented with an API key that you can use to make requests!\n",
    "\n",
    "With that, it's time to start making some api calls!"
   ]
  },
  {
   "cell_type": "code",
   "execution_count": 69,
   "metadata": {},
   "outputs": [],
   "source": [
    "#As a general rule of thumb, don't store passwords in a main file like this!\n",
    "#Instead, you would normally store those passwords under a sub file like passwords.py which you would then import.\n",
    "#Or even better, as an environment variable that could then be imported!\n",
    "#For now, we'll simply hardcode them into our notebook for simplicity.\n",
    "client_id = 'bVX1Jsfp4dkIOqw5HOVplg' #Your client ID goes here (as a string)\n",
    "api_key = 'RTzp-q-TgkJW_NFQogubFvZNRDziXyoR38VbtZMWibDI-FlvB25OE7GmafFEqhTL8_Bk2HlcX24-hRWLMP7Nc6WHO_VXMXldpPBjP0LoPv5EFFELMSI2oll8njhbXHYx' #Your api key goes here (as a string)"
   ]
  },
  {
   "cell_type": "markdown",
   "metadata": {},
   "source": [
    "## An Example Request with OAuth <a id=\"oauth_request\"></a>\n",
    "https://www.yelp.com/developers/documentation/v3/get_started\n",
    "\n",
    "In the next lesson, we'll further dissect how to read and translate online documentation like the link here. For now, let's simply look at an example request and dissect it into its consituent parts:"
   ]
  },
  {
   "cell_type": "code",
   "execution_count": 72,
   "metadata": {},
   "outputs": [
    {
     "name": "stdout",
     "output_type": "stream",
     "text": [
      "<Response [200]>\n",
      "<class 'dict'>\n",
      "{'businesses': [{'id': 'jzVv_21473lAMYXIhVbuTA', 'alias': 'de-mole-astoria-astoria', 'name': 'De Mole Astoria', 'image_url': 'https://s3-media1.fl.yelpcdn.com/bphoto/zZTTfdIGbQkQQptgQmin1A/o.jpg', 'is_closed': False, 'url': 'https://www.yelp.com/biz/de-mole-astoria-astoria?adjust_creative=bVX1Jsfp4dkIOqw5HOVplg&utm_campaign=yelp_api_v3&utm_medium=api_v3_business_search&utm_source=bVX1Jsfp4dkIOqw5HOVplg', 'review_count': 358, 'categories': [{'alias': 'mexican', 'title': 'Mexican'}], 'rating': 4.0, 'coordinates': {'latitude': 40.7625999, 'longitude': -73.9129028}, 'transactions': ['pickup', 'delivery'], 'price': '$$', 'location': {'address1': '4220 30th Ave', 'address2': '', 'address3': '', 'city': 'Astoria', 'zip_code': '11103', 'country': 'US', 'state': 'NY', 'display_address': ['4220 30th Ave', 'Astoria, NY 11103']}, 'phone': '+17187771655', 'display_phone': '(718) 777-1655', 'distance': 918.0927716406379}, {'id': 'yvva7IYpD6J7OfKlCdQrkw', 'alias': 'mi-espiguita-taqueria-astoria', 'name': 'Mi Espiguita Taqueria', 'image_url': 'https://s3-media2.fl.yelpcdn.com/bphoto/TEho39G01VJX05mNhI8W8A/o.jpg', 'is_closed': False, 'url': 'https://www.yelp.com/biz/mi-espiguita-taqueria-astoria?adjust_creative=bVX1Jsfp4dkIOqw5HOVplg&utm_campaign=yelp_api_v3&utm_medium=api_v3_business_search&utm_source=bVX1Jsfp4dkIOqw5HOVplg', 'review_count': 111, 'categories': [{'alias': 'mexican', 'title': 'Mexican'}], 'rating': 4.5, 'coordinates': {'latitude': 40.7612033639422, 'longitude': -73.9261436462402}, 'transactions': ['pickup', 'delivery'], 'price': '$', 'location': {'address1': '32-44 31st St', 'address2': '', 'address3': '', 'city': 'Astoria', 'zip_code': '11106', 'country': 'US', 'state': 'NY', 'display_address': ['32-44 31st St', 'Astoria, NY 11106']}, 'phone': '+17187775648', 'display_phone': '(718) 777-5648', 'distance': 714.301080232381}, {'id': 'AUyKmFjpaVLwc3awfUnqgQ', 'alias': 'chela-and-garnacha-astoria', 'name': 'Chela & Garnacha', 'image_url': 'https://s3-media1.fl.yelpcdn.com/bphoto/ChVbA1_xqLHFXL4Iyh84NA/o.jpg', 'is_closed': False, 'url': 'https://www.yelp.com/biz/chela-and-garnacha-astoria?adjust_creative=bVX1Jsfp4dkIOqw5HOVplg&utm_campaign=yelp_api_v3&utm_medium=api_v3_business_search&utm_source=bVX1Jsfp4dkIOqw5HOVplg', 'review_count': 361, 'categories': [{'alias': 'mexican', 'title': 'Mexican'}, {'alias': 'wine_bars', 'title': 'Wine Bars'}, {'alias': 'breakfast_brunch', 'title': 'Breakfast & Brunch'}], 'rating': 4.5, 'coordinates': {'latitude': 40.7557171543477, 'longitude': -73.927811292412}, 'transactions': ['pickup', 'delivery'], 'price': '$$', 'location': {'address1': '33-09 36th Ave', 'address2': '', 'address3': '', 'city': 'Astoria', 'zip_code': '11106', 'country': 'US', 'state': 'NY', 'display_address': ['33-09 36th Ave', 'Astoria, NY 11106']}, 'phone': '+19178326876', 'display_phone': '(917) 832-6876', 'distance': 1318.3265473785546}, {'id': 'jeWIYbgBho9vBDhc5S1xvg', 'alias': 'chanos-cantina-astoria', 'name': \"Chano's Cantina\", 'image_url': 'https://s3-media3.fl.yelpcdn.com/bphoto/Di8o5LhA8pEK51sYr2rb2A/o.jpg', 'is_closed': False, 'url': 'https://www.yelp.com/biz/chanos-cantina-astoria?adjust_creative=bVX1Jsfp4dkIOqw5HOVplg&utm_campaign=yelp_api_v3&utm_medium=api_v3_business_search&utm_source=bVX1Jsfp4dkIOqw5HOVplg', 'review_count': 159, 'categories': [{'alias': 'cocktailbars', 'title': 'Cocktail Bars'}, {'alias': 'newmexican', 'title': 'New Mexican Cuisine'}, {'alias': 'beerbar', 'title': 'Beer Bar'}], 'rating': 4.0, 'coordinates': {'latitude': 40.756621, 'longitude': -73.929336}, 'transactions': ['pickup', 'delivery'], 'price': '$$', 'location': {'address1': '35-55 31st', 'address2': '', 'address3': '', 'city': 'Astoria', 'zip_code': '11106', 'country': 'US', 'state': 'NY', 'display_address': ['35-55 31st', 'Astoria, NY 11106']}, 'phone': '+19178327261', 'display_phone': '(917) 832-7261', 'distance': 1290.4274875130448}, {'id': '6AJwsgXr7YwsqneGVAdgzw', 'alias': 'las-catrinas-mexican-bar-and-eatery-astoria', 'name': 'Las Catrinas Mexican Bar & Eatery', 'image_url': 'https://s3-media3.fl.yelpcdn.com/bphoto/3uevye47llEi-lAXf5RYPw/o.jpg', 'is_closed': False, 'url': 'https://www.yelp.com/biz/las-catrinas-mexican-bar-and-eatery-astoria?adjust_creative=bVX1Jsfp4dkIOqw5HOVplg&utm_campaign=yelp_api_v3&utm_medium=api_v3_business_search&utm_source=bVX1Jsfp4dkIOqw5HOVplg', 'review_count': 292, 'categories': [{'alias': 'mexican', 'title': 'Mexican'}, {'alias': 'cocktailbars', 'title': 'Cocktail Bars'}], 'rating': 4.0, 'coordinates': {'latitude': 40.7614214682633, 'longitude': -73.9246649456171}, 'transactions': ['pickup', 'delivery'], 'price': '$$', 'location': {'address1': '32-02 Broadway', 'address2': '', 'address3': None, 'city': 'Astoria', 'zip_code': '11106', 'country': 'US', 'state': 'NY', 'display_address': ['32-02 Broadway', 'Astoria, NY 11106']}, 'phone': '+19177450969', 'display_phone': '(917) 745-0969', 'distance': 642.5257707161409}, {'id': 'anBWvFPOce4nl3qLX-H6Rg', 'alias': 'el-mero-mero-long-island-city', 'name': 'El Mero Mero', 'image_url': 'https://s3-media2.fl.yelpcdn.com/bphoto/7tp30klraR5JTG73cKSt9A/o.jpg', 'is_closed': False, 'url': 'https://www.yelp.com/biz/el-mero-mero-long-island-city?adjust_creative=bVX1Jsfp4dkIOqw5HOVplg&utm_campaign=yelp_api_v3&utm_medium=api_v3_business_search&utm_source=bVX1Jsfp4dkIOqw5HOVplg', 'review_count': 76, 'categories': [{'alias': 'mexican', 'title': 'Mexican'}], 'rating': 4.5, 'coordinates': {'latitude': 40.753834323302, 'longitude': -73.923701159656}, 'transactions': ['pickup', 'delivery'], 'price': '$$', 'location': {'address1': '35-57 38th St', 'address2': '', 'address3': None, 'city': 'Long Island City', 'zip_code': '11101', 'country': 'US', 'state': 'NY', 'display_address': ['35-57 38th St', 'Long Island City, NY 11101']}, 'phone': '+17183922444', 'display_phone': '(718) 392-2444', 'distance': 1457.1140726924923}, {'id': 'EHUNrnIgnhwTnpOm3gEESg', 'alias': 'tacuba-astoria', 'name': 'Tacuba', 'image_url': 'https://s3-media4.fl.yelpcdn.com/bphoto/Q6jPz4xg6QPh4NElULobrA/o.jpg', 'is_closed': False, 'url': 'https://www.yelp.com/biz/tacuba-astoria?adjust_creative=bVX1Jsfp4dkIOqw5HOVplg&utm_campaign=yelp_api_v3&utm_medium=api_v3_business_search&utm_source=bVX1Jsfp4dkIOqw5HOVplg', 'review_count': 634, 'categories': [{'alias': 'mexican', 'title': 'Mexican'}, {'alias': 'tapas', 'title': 'Tapas Bars'}, {'alias': 'latin', 'title': 'Latin American'}], 'rating': 3.5, 'coordinates': {'latitude': 40.75585, 'longitude': -73.92447}, 'transactions': ['pickup', 'delivery'], 'price': '$$', 'location': {'address1': '35-01 36th St', 'address2': '', 'address3': '', 'city': 'Astoria', 'zip_code': '11106', 'country': 'US', 'state': 'NY', 'display_address': ['35-01 36th St', 'Astoria, NY 11106']}, 'phone': '+17187862727', 'display_phone': '(718) 786-2727', 'distance': 1229.3517053099579}, {'id': 'QIsFsiOP3H_NkgeWST7GPA', 'alias': 'maizal-restaurant-and-tequila-bar-astoria-2', 'name': 'Maizal Restaurant & Tequila Bar', 'image_url': 'https://s3-media3.fl.yelpcdn.com/bphoto/B2n1tzy4syl3ZSzADRj_dA/o.jpg', 'is_closed': False, 'url': 'https://www.yelp.com/biz/maizal-restaurant-and-tequila-bar-astoria-2?adjust_creative=bVX1Jsfp4dkIOqw5HOVplg&utm_campaign=yelp_api_v3&utm_medium=api_v3_business_search&utm_source=bVX1Jsfp4dkIOqw5HOVplg', 'review_count': 290, 'categories': [{'alias': 'mexican', 'title': 'Mexican'}, {'alias': 'cocktailbars', 'title': 'Cocktail Bars'}], 'rating': 4.0, 'coordinates': {'latitude': 40.759331, 'longitude': -73.926035}, 'transactions': ['pickup', 'delivery'], 'price': '$$', 'location': {'address1': '3207 34th Ave', 'address2': None, 'address3': None, 'city': 'Astoria', 'zip_code': '11106', 'country': 'US', 'state': 'NY', 'display_address': ['3207 34th Ave', 'Astoria, NY 11106']}, 'phone': '+17184069431', 'display_phone': '(718) 406-9431', 'distance': 900.4510911871262}, {'id': '2jjxdN9FXWVdx6DEX83krQ', 'alias': 'hoja-santa-astoria', 'name': 'Hoja Santa', 'image_url': 'https://s3-media3.fl.yelpcdn.com/bphoto/xqo13EL7qHVwTDbN2nzUFg/o.jpg', 'is_closed': False, 'url': 'https://www.yelp.com/biz/hoja-santa-astoria?adjust_creative=bVX1Jsfp4dkIOqw5HOVplg&utm_campaign=yelp_api_v3&utm_medium=api_v3_business_search&utm_source=bVX1Jsfp4dkIOqw5HOVplg', 'review_count': 28, 'categories': [{'alias': 'newmexican', 'title': 'New Mexican Cuisine'}, {'alias': 'mexican', 'title': 'Mexican'}], 'rating': 5.0, 'coordinates': {'latitude': 40.7638197, 'longitude': -73.914523}, 'transactions': [], 'location': {'address1': '40-17 30th Ave', 'address2': '', 'address3': None, 'city': 'Astoria', 'zip_code': '11103', 'country': 'US', 'state': 'NY', 'display_address': ['40-17 30th Ave', 'Astoria, NY 11103']}, 'phone': '', 'display_phone': '', 'distance': 751.5314685207126}, {'id': 'zNcDCPiUsE5aT6jyaCVtmA', 'alias': 'frescos-cantina-long-island-city', 'name': \"Fresco's Cantina\", 'image_url': 'https://s3-media2.fl.yelpcdn.com/bphoto/3IdlTTO1Fzft_vzyyqh1mg/o.jpg', 'is_closed': False, 'url': 'https://www.yelp.com/biz/frescos-cantina-long-island-city?adjust_creative=bVX1Jsfp4dkIOqw5HOVplg&utm_campaign=yelp_api_v3&utm_medium=api_v3_business_search&utm_source=bVX1Jsfp4dkIOqw5HOVplg', 'review_count': 200, 'categories': [{'alias': 'mexican', 'title': 'Mexican'}, {'alias': 'latin', 'title': 'Latin American'}, {'alias': 'newmexican', 'title': 'New Mexican Cuisine'}], 'rating': 4.5, 'coordinates': {'latitude': 40.76837, 'longitude': -73.93303}, 'transactions': ['pickup', 'restaurant_reservation', 'delivery'], 'price': '$$', 'location': {'address1': '12-14 31st Ave', 'address2': None, 'address3': '', 'city': 'Long Island City', 'zip_code': '11106', 'country': 'US', 'state': 'NY', 'display_address': ['12-14 31st Ave', 'Long Island City, NY 11106']}, 'phone': '+13478087338', 'display_phone': '(347) 808-7338', 'distance': 927.218713047218}], 'total': 667, 'region': {'center': {'longitude': -73.92219543457031, 'latitude': 40.76688875374591}}}\n"
     ]
    }
   ],
   "source": [
    "term = 'Mexican'\n",
    "location = 'Astoria NY'\n",
    "SEARCH_LIMIT = 10\n",
    "\n",
    "url = 'https://api.yelp.com/v3/businesses/search'\n",
    "\n",
    "headers = {\n",
    "        'Authorization': 'Bearer {}'.format(api_key),\n",
    "    }\n",
    "\n",
    "url_params = {\n",
    "                'term': term.replace(' ', '+'),\n",
    "                'location': location.replace(' ', '+'),\n",
    "                'limit': SEARCH_LIMIT\n",
    "            }\n",
    "response = requests.get(url, headers=headers, params=url_params)\n",
    "print(response)\n",
    "print(type(response.json()))\n",
    "print(response.json())"
   ]
  },
  {
   "cell_type": "markdown",
   "metadata": {},
   "source": [
    "## Breaking Down the Request\n",
    "\n",
    "As you can see, there are three main parts to our request.  \n",
    "  \n",
    "They are:\n",
    "* The url\n",
    "* The header\n",
    "* The parameters\n",
    "  \n",
    "The url is fairly straightforward and is simply the base url as described in the documentation (again more details in the upcoming lesson).\n",
    "\n",
    "The header is a dictionary of key-value pairs. In this case, we are using a fairly standard header used by many APIs. It has a strict form where 'Authorization' is the key and 'Bearer YourApiKey' is the value.\n",
    "\n",
    "The parameters are the filters which we wish to pass into the query. These will be embedded into the url when the request is made to the api. Similar to the header, they form key-value pairs. Valid key parameters by which to structure your queries, are described in the API documentation which we'll look at further shortly. A final important note however, is the need to replace spaces with \"+\". This is standard to many requests as URLs cannot contain spaces. (Note that the header itself isn't directly embedded into the url itself and as such, the space between 'Bearer' and YourApiKey is valid.)"
   ]
  },
  {
   "cell_type": "markdown",
   "metadata": {},
   "source": [
    "\n",
    "## The Response\n",
    "\n",
    "As before, our response object has both a status code, as well as the data itself. With that, let's start with a little data exploration!"
   ]
  },
  {
   "cell_type": "code",
   "execution_count": 73,
   "metadata": {},
   "outputs": [
    {
     "data": {
      "text/plain": [
       "dict_keys(['businesses', 'total', 'region'])"
      ]
     },
     "execution_count": 73,
     "metadata": {},
     "output_type": "execute_result"
    }
   ],
   "source": [
    "response.json().keys()\n"
   ]
  },
  {
   "cell_type": "markdown",
   "metadata": {},
   "source": [
    "Now let's go a bit further and start to preview what's stored in each of the values for these keys.\n"
   ]
  },
  {
   "cell_type": "code",
   "execution_count": 74,
   "metadata": {},
   "outputs": [
    {
     "name": "stdout",
     "output_type": "stream",
     "text": [
      "businesses\n",
      "<class 'list'>\n",
      "\n",
      "\n",
      "\n",
      "total\n",
      "<class 'int'>\n",
      "\n",
      "\n",
      "\n",
      "region\n",
      "<class 'dict'>\n",
      "\n",
      "\n",
      "\n"
     ]
    }
   ],
   "source": [
    "for key in response.json().keys():\n",
    "    print(key)\n",
    "    value = response.json()[key] #Use standard dictionary formatting\n",
    "    print(type(value)) #What type is it?\n",
    "    print('\\n\\n') #Seperate out data"
   ]
  },
  {
   "cell_type": "markdown",
   "metadata": {},
   "source": [
    "Let's continue to preview these further to get a little better acquainted.\n"
   ]
  },
  {
   "cell_type": "code",
   "execution_count": 75,
   "metadata": {
    "scrolled": true
   },
   "outputs": [
    {
     "data": {
      "text/plain": [
       "[{'alias': 'de-mole-astoria-astoria',\n",
       "  'categories': [{'alias': 'mexican', 'title': 'Mexican'}],\n",
       "  'coordinates': {'latitude': 40.7625999, 'longitude': -73.9129028},\n",
       "  'display_phone': '(718) 777-1655',\n",
       "  'distance': 918.0927716406379,\n",
       "  'id': 'jzVv_21473lAMYXIhVbuTA',\n",
       "  'image_url': 'https://s3-media1.fl.yelpcdn.com/bphoto/zZTTfdIGbQkQQptgQmin1A/o.jpg',\n",
       "  'is_closed': False,\n",
       "  'location': {'address1': '4220 30th Ave',\n",
       "   'address2': '',\n",
       "   'address3': '',\n",
       "   'city': 'Astoria',\n",
       "   'country': 'US',\n",
       "   'display_address': ['4220 30th Ave', 'Astoria, NY 11103'],\n",
       "   'state': 'NY',\n",
       "   'zip_code': '11103'},\n",
       "  'name': 'De Mole Astoria',\n",
       "  'phone': '+17187771655',\n",
       "  'price': '$$',\n",
       "  'rating': 4.0,\n",
       "  'review_count': 358,\n",
       "  'transactions': ['pickup', 'delivery'],\n",
       "  'url': 'https://www.yelp.com/biz/de-mole-astoria-astoria?adjust_creative=bVX1Jsfp4dkIOqw5HOVplg&utm_campaign=yelp_api_v3&utm_medium=api_v3_business_search&utm_source=bVX1Jsfp4dkIOqw5HOVplg'},\n",
       " {'alias': 'mi-espiguita-taqueria-astoria',\n",
       "  'categories': [{'alias': 'mexican', 'title': 'Mexican'}],\n",
       "  'coordinates': {'latitude': 40.7612033639422,\n",
       "   'longitude': -73.9261436462402},\n",
       "  'display_phone': '(718) 777-5648',\n",
       "  'distance': 714.301080232381,\n",
       "  'id': 'yvva7IYpD6J7OfKlCdQrkw',\n",
       "  'image_url': 'https://s3-media2.fl.yelpcdn.com/bphoto/TEho39G01VJX05mNhI8W8A/o.jpg',\n",
       "  'is_closed': False,\n",
       "  'location': {'address1': '32-44 31st St',\n",
       "   'address2': '',\n",
       "   'address3': '',\n",
       "   'city': 'Astoria',\n",
       "   'country': 'US',\n",
       "   'display_address': ['32-44 31st St', 'Astoria, NY 11106'],\n",
       "   'state': 'NY',\n",
       "   'zip_code': '11106'},\n",
       "  'name': 'Mi Espiguita Taqueria',\n",
       "  'phone': '+17187775648',\n",
       "  'price': '$',\n",
       "  'rating': 4.5,\n",
       "  'review_count': 111,\n",
       "  'transactions': ['pickup', 'delivery'],\n",
       "  'url': 'https://www.yelp.com/biz/mi-espiguita-taqueria-astoria?adjust_creative=bVX1Jsfp4dkIOqw5HOVplg&utm_campaign=yelp_api_v3&utm_medium=api_v3_business_search&utm_source=bVX1Jsfp4dkIOqw5HOVplg'}]"
      ]
     },
     "execution_count": 75,
     "metadata": {},
     "output_type": "execute_result"
    }
   ],
   "source": [
    "yelp_data =response.json()\n",
    "yelp_data['businesses'][:2]\n",
    "\n"
   ]
  },
  {
   "cell_type": "code",
   "execution_count": 76,
   "metadata": {},
   "outputs": [],
   "source": [
    "import time\n",
    "time.sleep(.3)"
   ]
  },
  {
   "cell_type": "markdown",
   "metadata": {},
   "source": [
    "As you can see, we're primarily interested in the 'bussinesses' entry. \n"
   ]
  },
  {
   "cell_type": "markdown",
   "metadata": {},
   "source": [
    "## Summary <a id=\"sum\"></a>\n",
    "\n",
    "Congratulations! We've covered a lot here! We took some of your previous knowledge with HTTP requests and OAuth in order to leverage an enterprise API! Then we made some requests to retrieve information that came back as a json format. We then transformed this data into a dataframe using the Pandas package. In the next lab, we'll break down how to read API documentation and then put it all together to make a nifty map!"
   ]
  }
 ],
 "metadata": {
  "kernelspec": {
   "display_name": "Python 3",
   "language": "python",
   "name": "python3"
  },
  "language_info": {
   "codemirror_mode": {
    "name": "ipython",
    "version": 3
   },
   "file_extension": ".py",
   "mimetype": "text/x-python",
   "name": "python",
   "nbconvert_exporter": "python",
   "pygments_lexer": "ipython3",
   "version": "3.7.3"
  }
 },
 "nbformat": 4,
 "nbformat_minor": 2
}
