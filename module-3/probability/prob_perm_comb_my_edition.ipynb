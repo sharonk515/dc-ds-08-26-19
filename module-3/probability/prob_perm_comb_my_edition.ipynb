{
 "cells": [
  {
   "cell_type": "code",
   "execution_count": 1,
   "metadata": {},
   "outputs": [],
   "source": [
    "import numpy as np\n",
    "\n",
    "import pandas as pd\n",
    "\n",
    "import matplotlib.pyplot as plt"
   ]
  },
  {
   "cell_type": "code",
   "execution_count": 44,
   "metadata": {},
   "outputs": [],
   "source": [
    "## a function that returns the number of elements in the events sum of three dice is 11 and sum of three dice is 12\n",
    "\n",
    "dice1 = [1,2,3,4,5,6]\n",
    "dice2 = [1,2,3,4,5,6]\n",
    "dice3 = [1,2,3,4,5,6]\n",
    "\n",
    "import itertools\n",
    "\n",
    "\n",
    "rolling = list(itertools.product(dice1, dice2, dice3))\n",
    "\n",
    "s = {}\n",
    "\n",
    "for i in [11,12]:\n",
    "    if not i==0:\n",
    "        l = [a for a in rolling if a[0] + a[1] + a[2] ==i]\n",
    "        s[i] = l\n"
   ]
  },
  {
   "cell_type": "code",
   "execution_count": 43,
   "metadata": {},
   "outputs": [
    {
     "data": {
      "text/plain": [
       "25"
      ]
     },
     "execution_count": 43,
     "metadata": {},
     "output_type": "execute_result"
    }
   ],
   "source": [
    "len(s[12])"
   ]
  },
  {
   "cell_type": "code",
   "execution_count": 47,
   "metadata": {},
   "outputs": [],
   "source": [
    "## in one dice you get a certain number\n",
    "\n",
    "rolling = list(itertools.product(dice1, dice2))\n",
    "for i in range (7):\n",
    "    if not i==0:\n",
    "        l = [(a[0]==i, a[1] == i) for a in rolling]\n",
    "        s[i] = l"
   ]
  },
  {
   "cell_type": "code",
   "execution_count": 48,
   "metadata": {},
   "outputs": [
    {
     "data": {
      "text/plain": [
       "11"
      ]
     },
     "execution_count": 48,
     "metadata": {},
     "output_type": "execute_result"
    }
   ],
   "source": [
    "np.sum([np.any(a) for a in s[5]])"
   ]
  },
  {
   "cell_type": "code",
   "execution_count": 58,
   "metadata": {},
   "outputs": [
    {
     "data": {
      "text/plain": [
       "120"
      ]
     },
     "execution_count": 58,
     "metadata": {},
     "output_type": "execute_result"
    }
   ],
   "source": [
    "## factorial\n",
    "\n",
    "def factorial(n):\n",
    "    prdct = 1\n",
    "    while n>1:\n",
    "        prdct *=n\n",
    "        n -=1\n",
    "    return prdct\n",
    "\n",
    "## with built-in function\n",
    "\n",
    "import math\n",
    "\n",
    "math.factorial(5)"
   ]
  },
  {
   "cell_type": "code",
   "execution_count": 62,
   "metadata": {},
   "outputs": [],
   "source": [
    "## appointment example\n",
    "\n",
    "import itertools\n",
    "\n",
    "l = set(itertools.permutations(['F', 'F', 'F', 'M', 'M', 'M'], ))"
   ]
  },
  {
   "cell_type": "code",
   "execution_count": 66,
   "metadata": {},
   "outputs": [],
   "source": [
    "## 10 books = 4M + 3 Chem + 2Hist + 1 Lang\n",
    "\n",
    "## result is 4!* 4! * 3! * 2! "
   ]
  },
  {
   "cell_type": "markdown",
   "metadata": {},
   "source": [
    "## Extra resources\n",
    "\n",
    "[permutations - code](https://www.geeksforgeeks.org/generate-all-the-permutation-of-a-list-in-python/)\n",
    "\n",
    "[Some examples on combination and permutation](https://www.geeksforgeeks.org/combination-permutation-practice-questions/)\n",
    "\n",
    "[itertool documentation](https://docs.python.org/2/library/itertools.html#itertools.combinations)\n",
    "\n",
    "[cs109 probab](https://web.stanford.edu/class/cs109/reader/2%20Probability.pdf)\n",
    "\n",
    "[very good lecture notes on conditional probability](http://faculty.arts.ubc.ca/vmarmer/econ327/327_02_cond_probability.pdf)"
   ]
  },
  {
   "cell_type": "code",
   "execution_count": null,
   "metadata": {},
   "outputs": [],
   "source": []
  },
  {
   "cell_type": "code",
   "execution_count": null,
   "metadata": {},
   "outputs": [],
   "source": []
  }
 ],
 "metadata": {
  "kernelspec": {
   "display_name": "Python 3",
   "language": "python",
   "name": "python3"
  },
  "language_info": {
   "codemirror_mode": {
    "name": "ipython",
    "version": 3
   },
   "file_extension": ".py",
   "mimetype": "text/x-python",
   "name": "python",
   "nbconvert_exporter": "python",
   "pygments_lexer": "ipython3",
   "version": "3.7.3"
  }
 },
 "nbformat": 4,
 "nbformat_minor": 2
}
